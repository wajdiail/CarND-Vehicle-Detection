{
 "cells": [
  {
   "cell_type": "code",
   "execution_count": 1,
   "metadata": {},
   "outputs": [],
   "source": [
    "import numpy as np\n",
    "import matplotlib.pyplot as plt\n",
    "import matplotlib.image as mpimg\n",
    "import glob\n",
    "import cv2\n",
    "from skimage.feature import hog\n",
    "from sklearn.svm import LinearSVC\n",
    "from sklearn.preprocessing import StandardScaler\n",
    "# for scikit-learn >= 0.18 use:\n",
    "from sklearn.model_selection import train_test_split\n",
    "# from sklearn.cross_validation import train_test_split\n",
    "from scipy.ndimage.measurements import label\n",
    "from moviepy.editor import VideoFileClip\n",
    "from IPython.display import HTML\n",
    "import time \n",
    "\n",
    "%matplotlib inline\n",
    "\n",
    "cars = glob.glob('vehicles/**/*.png')\n",
    "noncars = glob.glob('non-vehicles/**/*.png')\n"
   ]
  },
  {
   "cell_type": "code",
   "execution_count": 2,
   "metadata": {},
   "outputs": [],
   "source": [
    "def get_hog_features(img, orient, pix_per_cell, cell_per_block, \n",
    "                        vis=False, feature_vec=True):\n",
    "    # Call with two outputs if vis==True\n",
    "    if vis == True:\n",
    "        features, hog_image = hog(img, orientations=orient, \n",
    "                                  pixels_per_cell=(pix_per_cell, pix_per_cell),\n",
    "                                  cells_per_block=(cell_per_block, cell_per_block), \n",
    "                                  transform_sqrt=False, \n",
    "                                  visualise=vis, feature_vector=feature_vec)\n",
    "        return features, hog_image\n",
    "    # Otherwise call with one output\n",
    "    else:      \n",
    "        features = hog(img, orientations=orient, \n",
    "                       pixels_per_cell=(pix_per_cell, pix_per_cell),\n",
    "                       cells_per_block=(cell_per_block, cell_per_block), \n",
    "                       transform_sqrt=False, \n",
    "                       visualise=vis, feature_vector=feature_vec)\n",
    "        return features\n"
   ]
  },
  {
   "cell_type": "code",
   "execution_count": 3,
   "metadata": {},
   "outputs": [],
   "source": [
    "def color_hist(img, nbins=32):    #bins_range=(0, 256)\n",
    "    # Compute the histogram of the color channels separately\n",
    "    channel1_hist = np.histogram(img[:,:,0], bins=nbins)\n",
    "    channel2_hist = np.histogram(img[:,:,1], bins=nbins)\n",
    "    channel3_hist = np.histogram(img[:,:,2], bins=nbins)\n",
    "    # Concatenate the histograms into a single feature vector\n",
    "    hist_features = np.concatenate((channel1_hist[0], channel2_hist[0], channel3_hist[0]))\n",
    "    # Return the individual histograms, bin_centers and feature vector\n",
    "    return hist_features"
   ]
  },
  {
   "cell_type": "code",
   "execution_count": 4,
   "metadata": {},
   "outputs": [
    {
     "name": "stdout",
     "output_type": "stream",
     "text": [
      "...\n"
     ]
    }
   ],
   "source": [
    "\n",
    "# Define a function to extract features from a list of image locations\n",
    "# This function could also be used to call bin_spatial() and color_hist() (as in the lessons) to extract\n",
    "# flattened spatial color features and color histogram features and combine them all (making use of StandardScaler)\n",
    "# to be used together for classification\n",
    "def extract_features(imgs, cspace='RGB', orient=9, \n",
    "                        pix_per_cell=8, cell_per_block=2, hog_channel=0):\n",
    "    # Create a list to append feature vectors to\n",
    "    features = []\n",
    "    # Iterate through the list of images\n",
    "    for file in imgs:\n",
    "        # Read in each one by one\n",
    "        image = cv2.imread(file)\n",
    "        # apply color conversion if other than 'RGB'\n",
    "        if cspace != 'RGB':\n",
    "            if cspace == 'HSV':\n",
    "                feature_image = cv2.cvtColor(image, cv2.COLOR_RGB2HSV)\n",
    "            elif cspace == 'LUV':\n",
    "                feature_image = cv2.cvtColor(image, cv2.COLOR_RGB2LUV)\n",
    "            elif cspace == 'HLS':\n",
    "                feature_image = cv2.cvtColor(image, cv2.COLOR_RGB2HLS)\n",
    "            elif cspace == 'YUV':\n",
    "                feature_image = cv2.cvtColor(image, cv2.COLOR_RGB2YUV)\n",
    "            elif cspace == 'YCrCb':\n",
    "                feature_image = cv2.cvtColor(image, cv2.COLOR_RGB2YCrCb)\n",
    "        else: feature_image = np.copy(image)      \n",
    "\n",
    "        # Call get_hog_features() with vis=False, feature_vec=True\n",
    "        if hog_channel == 'ALL':\n",
    "            hog_features = []\n",
    "            for channel in range(feature_image.shape[2]):\n",
    "                hog_features.append(get_hog_features(feature_image[:,:,channel], \n",
    "                                    orient, pix_per_cell, cell_per_block, \n",
    "                                    vis=False, feature_vec=True))\n",
    "            hog_features = np.ravel(hog_features)        \n",
    "        else:\n",
    "            hog_features = get_hog_features(feature_image[:,:,hog_channel], orient, \n",
    "                        pix_per_cell, cell_per_block, vis=False, feature_vec=True)\n",
    "            \n",
    "        hist_features=color_hist(feature_image,32)\n",
    "        final_features=np.concatenate((hist_features, hog_features))\n",
    "        # Append the new feature vector to the features list\n",
    "        features.append(final_features)\n",
    "    # Return list of feature vectors\n",
    "    return features\n",
    "\n",
    "print('...')\n",
    "\n"
   ]
  },
  {
   "cell_type": "code",
   "execution_count": 5,
   "metadata": {},
   "outputs": [
    {
     "name": "stdout",
     "output_type": "stream",
     "text": [
      "52.76 Seconds to extract features...\n"
     ]
    }
   ],
   "source": [
    "import time\n",
    "# Feature extraction parameters\n",
    "colorspace = 'LUV' # Can be RGB, HSV, LUV, HLS, YUV, YCrCb\n",
    "orient = 9\n",
    "pix_per_cell = 8\n",
    "cell_per_block = 8\n",
    "hog_channel = 'ALL' # Can be 0, 1, 2, or \"ALL\"\n",
    "\n",
    "t = time.time()\n",
    "car_features = extract_features(cars, cspace=colorspace, orient=orient, \n",
    "                        pix_per_cell=pix_per_cell, cell_per_block=cell_per_block, \n",
    "                        hog_channel=hog_channel)\n",
    "notcar_features = extract_features(noncars, cspace=colorspace, orient=orient, \n",
    "                        pix_per_cell=pix_per_cell, cell_per_block=cell_per_block, \n",
    "                        hog_channel=hog_channel)\n",
    "t2 = time.time()\n",
    "print(round(t2-t, 2), 'Seconds to extract features...')\n",
    "\n"
   ]
  },
  {
   "cell_type": "code",
   "execution_count": 32,
   "metadata": {},
   "outputs": [
    {
     "name": "stdout",
     "output_type": "stream",
     "text": [
      "Using: 9 orientations 8 pixels per cell and 8 cells per block\n",
      "Feature vector length: 1824\n"
     ]
    }
   ],
   "source": [
    "# Create an array stack of feature vectors\n",
    "X = np.vstack((car_features, notcar_features)).astype(np.float64)  \n",
    "\n",
    "# Fit a per-column scaler - this will be necessary if combining different types of features (HOG + color_hist/bin_spatial)\n",
    "X_scaler = StandardScaler().fit(X)\n",
    "# Apply the scaler to X\n",
    "scaled_X = X_scaler.transform(X)\n",
    "\n",
    "# Define the labels vector\n",
    "y = np.hstack((np.ones(len(car_features)), np.zeros(len(notcar_features))))\n",
    "\n",
    "\n",
    "# Split up data into randomized training and test sets\n",
    "rand_state = np.random.randint(0, 100)\n",
    "X_train, X_test, y_train, y_test = train_test_split(\n",
    "    scaled_X, y, test_size=0.2, random_state=rand_state)\n",
    "\n",
    "print('Using:',orient,'orientations',pix_per_cell,\n",
    "    'pixels per cell and', cell_per_block,'cells per block')\n",
    "print('Feature vector length:', len(X_train[0]))"
   ]
  },
  {
   "cell_type": "code",
   "execution_count": 33,
   "metadata": {},
   "outputs": [
    {
     "name": "stdout",
     "output_type": "stream",
     "text": [
      "5.95 Seconds to train SVC...\n",
      "Test Accuracy of SVC =  0.9862\n",
      "My SVC predicts:  [ 1.  0.  0.  1.  1.  1.  0.  0.  0.  1.]\n",
      "For these 10 labels:  [ 1.  0.  0.  1.  1.  1.  0.  0.  0.  1.]\n",
      "0.0225 Seconds to predict 10 labels with SVC\n"
     ]
    }
   ],
   "source": [
    "# Use a linear SVC \n",
    "svc = LinearSVC()\n",
    "# Check the training time for the SVC\n",
    "t = time.time()\n",
    "svc.fit(X_train, y_train)\n",
    "t2 = time.time()\n",
    "print(round(t2-t, 2), 'Seconds to train SVC...')\n",
    "# Check the score of the SVC\n",
    "print('Test Accuracy of SVC = ', round(svc.score(X_test, y_test), 4))\n",
    "# Check the prediction time for a single sample\n",
    "t=time.time()\n",
    "n_predict = 10\n",
    "print('My SVC predicts: ', svc.predict(X_test[0:n_predict]))\n",
    "print('For these',n_predict, 'labels: ', y_test[0:n_predict])\n",
    "t2 = time.time()\n",
    "print(round(t2-t, 5), 'Seconds to predict', n_predict,'labels with SVC')"
   ]
  },
  {
   "cell_type": "code",
   "execution_count": 34,
   "metadata": {
    "collapsed": true
   },
   "outputs": [],
   "source": [
    "def convert_color(img, conv='RGB2YCrCb'):\n",
    "    if conv == 'RGB2YCrCb':\n",
    "        return cv2.cvtColor(img, cv2.COLOR_RGB2YCrCb)\n",
    "    if conv == 'RGB2HSV':\n",
    "        return cv2.cvtColor(img, cv2.COLOR_RGB2HSV)\n",
    "    if conv == 'RGB2LUV':\n",
    "        return cv2.cvtColor(img, cv2.COLOR_RGB2LUV)"
   ]
  },
  {
   "cell_type": "code",
   "execution_count": 35,
   "metadata": {
    "collapsed": true
   },
   "outputs": [],
   "source": [
    "def find_cars(img, ystart, ystop, scale, svc, X_scaler, orient, pix_per_cell, cell_per_block, spatial_size, hist_bins):\n",
    "    \n",
    "    draw_img = np.copy(img)\n",
    "\n",
    "    img_tosearch = img[ystart:ystop,:,:]\n",
    "    #print(img_tosearch.shape)\n",
    "    ctrans_tosearch = convert_color(img_tosearch, conv='RGB2LUV')\n",
    " \n",
    "    if scale != 1:\n",
    "        imshape = ctrans_tosearch.shape\n",
    "        ctrans_tosearch = cv2.resize(ctrans_tosearch, (np.int(imshape[1]/scale), np.int(imshape[0]/scale)))\n",
    "\n",
    "   \n",
    "    ch1 = ctrans_tosearch[:,:,0]\n",
    "    ch2 = ctrans_tosearch[:,:,1]\n",
    "    ch3 = ctrans_tosearch[:,:,2]\n",
    " \n",
    "    \n",
    "    nxblocks = (ch1.shape[1] // pix_per_cell) - cell_per_block + 1\n",
    "    nyblocks = (ch1.shape[0] // pix_per_cell) - cell_per_block + 1 \n",
    "    nfeat_per_block = orient*cell_per_block**2\n",
    "\n",
    "    # 64 was the orginal sampling rate, with 8 cells and 8 pix per cell\n",
    "    window = 64\n",
    "    \n",
    "    nblocks_per_window = (window // pix_per_cell) - cell_per_block + 1\n",
    "\n",
    "    cells_per_step = 2  # Instead of overlap, define how many cells to step\n",
    "    nxsteps = (nxblocks - nblocks_per_window) // cells_per_step\n",
    "    nysteps = (nyblocks - nblocks_per_window) // cells_per_step\n",
    " \n",
    "    t = time.time()\n",
    "    # Compute individual channel HOG features for the entire image\n",
    "    hog1, hog1_img = get_hog_features(ch1, orient, pix_per_cell, cell_per_block, vis=True, feature_vec=False)\n",
    "    hog2, hog2_img = get_hog_features(ch2, orient, pix_per_cell, cell_per_block, vis=True, feature_vec=False)\n",
    "    hog3, hog3_img = get_hog_features(ch3, orient, pix_per_cell, cell_per_block,vis=True, feature_vec=False)\n",
    "  \n",
    "    boxes =[]\n",
    " \n",
    "\n",
    "    for xb in range(nxsteps):\n",
    "        t5 = time.time()\n",
    "\n",
    "        for yb in range(nysteps):\n",
    "            ypos = yb*cells_per_step\n",
    "            xpos = xb*cells_per_step\n",
    "            # Extract HOG for this patch\n",
    "            \n",
    "            t7 = time.time()\n",
    "          \n",
    "            hog_feat1 = hog1[ypos:ypos+nblocks_per_window, xpos:xpos+nblocks_per_window].ravel() \n",
    "            hog_feat2 = hog2[ypos:ypos+nblocks_per_window, xpos:xpos+nblocks_per_window].ravel() \n",
    "            hog_feat3 = hog3[ypos:ypos+nblocks_per_window, xpos:xpos+nblocks_per_window].ravel() \n",
    "            hog_features = np.hstack((hog_feat1, hog_feat2, hog_feat3))\n",
    "            \n",
    "\n",
    "\n",
    "            xleft = xpos*pix_per_cell\n",
    "            ytop = ypos*pix_per_cell\n",
    "            \n",
    "            # Extract the image patch\n",
    "            subimg = ctrans_tosearch[ytop:ytop+window, xleft:xleft+window]\n",
    "         \n",
    "            if xb ==100000 and yb==300000:\n",
    "                plt.imshow(subimg)\n",
    "        \n",
    "            hist_features = color_hist(subimg, nbins=hist_bins)\n",
    "         \n",
    "            \n",
    "            test_features11= np.concatenate((hist_features, hog_features))\n",
    "            \n",
    "        \n",
    "            test_features1 = X_scaler.transform(test_features11) \n",
    "         \n",
    "            test_prediction = svc.predict(test_features1)\n",
    "            #print(test_prediction)\n",
    "       \n",
    "            if test_prediction == 1:\n",
    "                xbox_left = np.int(xleft*scale)\n",
    "                ytop_draw = np.int(ytop*scale)\n",
    "                win_draw = np.int(window*scale)\n",
    "                #cv2.rectangle(draw_img,(xbox_left, ytop_draw+ystart),(xbox_left+win_draw,ytop_draw+win_draw+ystart),(0,0,255),6) \n",
    "                pts = ((xbox_left, ytop_draw+ystart),(xbox_left+win_draw,ytop_draw+win_draw+ystart))\n",
    "                boxes.append(pts)\n",
    "        \n",
    "    return boxes\n",
    "\n",
    "\n",
    "\n",
    "\n",
    "\n"
   ]
  },
  {
   "cell_type": "code",
   "execution_count": 36,
   "metadata": {
    "collapsed": true
   },
   "outputs": [],
   "source": [
    "def add_heat(heatmap_image, bbox_list):\n",
    "    # Iterate through list of bboxes\n",
    "    #print(heatmap)\n",
    "    for box in bbox_list:\n",
    "        if (box[1][0]>790): \n",
    "            heatmap_image[box[0][1]:box[1][1], box[0][0]:box[1][0]]+=1\n",
    "    return heatmap_image"
   ]
  },
  {
   "cell_type": "code",
   "execution_count": 45,
   "metadata": {},
   "outputs": [],
   "source": [
    "class GlobalCounters():\n",
    "    def __init__(self):\n",
    "        self.prevbox = 0\n",
    "        self.frame=0\n",
    "        self.counter_a =0\n",
    "        self.counter_b =0\n",
    "        self.frame2 =0\n",
    "    def counter(self, value):\n",
    "        self.counter_a = self.counter_a+value\n",
    "        return self.counter\n",
    "    def counter2(self, value ,reset= False):\n",
    "        if reset==True:\n",
    "            self.counter_b = 0\n",
    "        else:\n",
    "            self.counter_b = self.counter_b+value\n",
    "        return self.counter2\n",
    "    \n",
    "fill_gap = GlobalCounters()"
   ]
  },
  {
   "cell_type": "code",
   "execution_count": 46,
   "metadata": {},
   "outputs": [],
   "source": [
    "\n",
    "def draw_labeled_bboxes(img, labels,):\n",
    "    # Iterate through all detected cars\n",
    "    rects = []\n",
    "    import numpy as np\n",
    "    #print(labels[1])\n",
    "    for car_number in range(1, labels[1]+1):\n",
    "        # Find pixels with each car_number label value\n",
    "        nonzero = (labels[0] == car_number).nonzero()\n",
    " \n",
    "        # Identify x and y values of those pixels\n",
    "        nonzeroy = np.array(nonzero[0])\n",
    "        nonzerox = np.array(nonzero[1])\n",
    "        # Define a bounding box based on min/max x and y\n",
    "        bbox = ((np.min(nonzerox), np.min(nonzeroy)), (np.max(nonzerox), np.max(nonzeroy)))\n",
    "     \n",
    "        #Calculate the area of the bounding box\n",
    "        areaofrect= (bbox[1][0] - bbox[0][0]) * (bbox[1][1] -bbox[0][1])/1000\n",
    "        \n",
    "        if areaofrect >15:\n",
    "            \n",
    "            b= fill_gap.counter(1)\n",
    "            if fill_gap.counter_a >=10:\n",
    "                cv2.rectangle(img, bbox[0], bbox[1], (0,0,255), 6)\n",
    "            fill_gap.frame =35\n",
    "            fill_gap.prevbox = bbox\n",
    "            rects.append(fill_gap.prevbox)\n",
    "                  \n",
    "        elif fill_gap.prevbox !=0:\n",
    "            \n",
    "            cv2.rectangle(img, fill_gap.prevbox[0], fill_gap.prevbox[1], (0,0,255), 6)\n",
    "            rects.append(fill_gap.prevbox)\n",
    "        \n",
    "        \n",
    "    return img, rects"
   ]
  },
  {
   "cell_type": "code",
   "execution_count": 47,
   "metadata": {
    "collapsed": true
   },
   "outputs": [],
   "source": [
    "def remove_falsepositive(heat_img, value):\n",
    "    heat_img[heat_img <= value] = 0\n",
    "    return heat_img \n"
   ]
  },
  {
   "cell_type": "code",
   "execution_count": 48,
   "metadata": {},
   "outputs": [],
   "source": [
    "def video_pipeline(img):\n",
    "    #print(img)\n",
    "    if fill_gap.frame>0:\n",
    "            \n",
    "            if fill_gap.prevbox !=0:\n",
    "                cv2.rectangle(img, fill_gap.prevbox[0], fill_gap.prevbox[1], (0,0,255), 6)\n",
    "            fill_gap.frame = fill_gap.frame -1\n",
    "\n",
    "    else:\n",
    "            #Apply Gaussian Blur\n",
    "            blur_img = cv2.GaussianBlur(img, (15,15), 0)\n",
    "            zero_img = np.zeros_like(img[:,:,0])\n",
    "            \n",
    "            if fill_gap.frame2>0:\n",
    "                fill_gap.frame2 = fill_gap.frame2 -1 \n",
    "                boxes = []\n",
    "            else:\n",
    "                ystart = 350\n",
    "                ystop = 660\n",
    "                scale = 2\n",
    "                spatial_size=(32,32)\n",
    "                hist_bins = 32\n",
    "                orient =9\n",
    "                boxes1 = find_cars(blur_img, ystart, ystop, scale, svc, X_scaler, orient, pix_per_cell, cell_per_block, spatial_size, hist_bins)\n",
    "    \n",
    "                ystart = 350\n",
    "                ystop = 660\n",
    "                scale = 1.5\n",
    "                spatial_size=(32,32)\n",
    "                hist_bins = 32\n",
    "                orient =9\n",
    "                boxes2 = find_cars(blur_img, ystart, ystop, scale, svc, X_scaler, orient, pix_per_cell, cell_per_block, spatial_size, hist_bins)\n",
    "    \n",
    "                # if the bounding box detected are less than 5 in numbers for both scales and its likely to be a false positive\n",
    "                if len(boxes1)<5 and len(boxes2)<5:\n",
    "                    fill_gap.counter2(1)\n",
    "                # if more than 3 frames are detected to have less than 5 boxes the next 15 frames are assumed to not have car and boxes are drawn, this elimates\n",
    "                #false positvies\n",
    "                    if fill_gap.counter_b >3:\n",
    "                        fill_gap.frame2 = 15\n",
    "                        fill_gap.counter2(0, reset= True)\n",
    "                    \n",
    "                    boxes = []\n",
    "              \n",
    "                else:\n",
    "                    boxes = boxes1 + boxes2\n",
    "               \n",
    "                if boxes ==[] and fill_gap.prevbox !=0:\n",
    "                    cv2.rectangle(img, fill_gap.prevbox[0], fill_gap.prevbox[1], (0,0,255), 6)\n",
    "                    \n",
    "                heat_img = add_heat(zero_img, boxes)\n",
    "                filter_img = remove_falsepositive(heat_img, 1)\n",
    "                #plt.imshow(filter_img, cmap='hot')\n",
    "                labels = label(heat_img)\n",
    "                img, rect = draw_labeled_bboxes(img, labels)\n",
    "    return img\n",
    "\n",
    "\n"
   ]
  },
  {
   "cell_type": "code",
   "execution_count": 49,
   "metadata": {},
   "outputs": [
    {
     "name": "stdout",
     "output_type": "stream",
     "text": [
      "[MoviePy] >>>> Building video project_output.mp4\n",
      "[MoviePy] Writing video project_output.mp4\n"
     ]
    },
    {
     "name": "stderr",
     "output_type": "stream",
     "text": [
      "100%|█████████▉| 1260/1261 [12:20<00:00,  1.70it/s] \n"
     ]
    },
    {
     "name": "stdout",
     "output_type": "stream",
     "text": [
      "[MoviePy] Done.\n",
      "[MoviePy] >>>> Video ready: project_output.mp4 \n",
      "\n",
      "Wall time: 12min 22s\n"
     ]
    },
    {
     "data": {
      "text/html": [
       "\n",
       "<video width=\"960\" height=\"540\" controls>\n",
       "  <source src=\"project_output.mp4\">\n",
       "</video>\n"
      ],
      "text/plain": [
       "<IPython.core.display.HTML object>"
      ]
     },
     "execution_count": 49,
     "metadata": {},
     "output_type": "execute_result"
    }
   ],
   "source": [
    "\n",
    "project_output ='project_output.mp4'\n",
    "#clip1 = VideoFileClip(\"test_video.mp4\")\n",
    "clip1 = VideoFileClip(\"project_video.mp4\")\n",
    "project_clip = clip1.fl_image(video_pipeline) #NOTE: this function expects color images!!\n",
    "%time project_clip.write_videofile(project_output, audio=False)\n",
    "\n",
    "#View the processed video of yellow_output\n",
    "\n",
    "HTML(\"\"\"\n",
    "<video width=\"960\" height=\"540\" controls>\n",
    "  <source src=\"{0}\">\n",
    "</video>\n",
    "\"\"\".format(project_output))"
   ]
  },
  {
   "cell_type": "code",
   "execution_count": null,
   "metadata": {
    "collapsed": true
   },
   "outputs": [],
   "source": []
  }
 ],
 "metadata": {
  "kernelspec": {
   "display_name": "Python 3",
   "language": "python",
   "name": "python3"
  },
  "language_info": {
   "codemirror_mode": {
    "name": "ipython",
    "version": 3
   },
   "file_extension": ".py",
   "mimetype": "text/x-python",
   "name": "python",
   "nbconvert_exporter": "python",
   "pygments_lexer": "ipython3",
   "version": "3.5.4"
  },
  "widgets": {
   "state": {},
   "version": "1.1.2"
  }
 },
 "nbformat": 4,
 "nbformat_minor": 2
}
